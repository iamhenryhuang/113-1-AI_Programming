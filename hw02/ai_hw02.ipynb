{
  "nbformat": 4,
  "nbformat_minor": 0,
  "metadata": {
    "colab": {
      "provenance": [],
      "gpuType": "T4"
    },
    "kernelspec": {
      "name": "python3",
      "display_name": "Python 3"
    },
    "language_info": {
      "name": "python"
    },
    "accelerator": "GPU"
  },
  "cells": [
    {
      "cell_type": "markdown",
      "source": [
        "將資料檔 HealthCheck.csv 讀入"
      ],
      "metadata": {
        "id": "KFkCFVv7fg_G"
      }
    },
    {
      "cell_type": "code",
      "execution_count": 91,
      "metadata": {
        "id": "tSblA88HeSwl"
      },
      "outputs": [],
      "source": [
        "import pandas as pd\n",
        "import numpy as np\n",
        "import os\n",
        "\n",
        "Dataset_File = \"HealthCheck.csv\"\n",
        "if not os.path.isfile(Dataset_File):\n",
        "  os.system(\"wget https://raw.githubusercontent.com/cnchi/datasets/master/\" + Dataset_File)"
      ]
    },
    {
      "cell_type": "code",
      "source": [
        "dataset = pd.read_csv(\"HealthCheck.csv\")\n",
        "print(dataset)"
      ],
      "metadata": {
        "colab": {
          "base_uri": "https://localhost:8080/"
        },
        "id": "8pINx9h5fSVC",
        "outputId": "898c553d-2f01-408e-8241-bfad0953e7c3"
      },
      "execution_count": 92,
      "outputs": [
        {
          "output_type": "stream",
          "name": "stdout",
          "text": [
            "      Race  Height_cm  Weight_kg Over70yr\n",
            "0    White      186.0       90.0      Yes\n",
            "1  African      185.0       98.0       No\n",
            "2    Asian      175.0       80.0       No\n",
            "3  African      170.0       75.0      Yes\n",
            "4    Asian      164.0        NaN       No\n",
            "5    Asian      170.0       72.0      Yes\n",
            "6    White      178.0       75.0       No\n",
            "7    White        NaN       89.0      Yes\n",
            "8  African      165.0       79.0      Yes\n"
          ]
        }
      ]
    },
    {
      "cell_type": "markdown",
      "source": [
        "將資料集切分為「自變數 X」與「應變數 Y」"
      ],
      "metadata": {
        "id": "WzupT4RRfmnA"
      }
    },
    {
      "cell_type": "code",
      "source": [
        "X = dataset.iloc[:, :-1].values #自變數(直行:從最左到倒數第二行)\n",
        "Y = dataset.iloc[:, 3].values #應變數(直行:最後一行yes,no那行)"
      ],
      "metadata": {
        "id": "QpSweIL1fpcV"
      },
      "execution_count": 93,
      "outputs": []
    },
    {
      "cell_type": "markdown",
      "source": [
        "把缺失資料補上(取欄平均填入)"
      ],
      "metadata": {
        "id": "9i89Iq45ga9f"
      }
    },
    {
      "cell_type": "code",
      "source": [
        "from sklearn.impute import SimpleImputer #填補遺失資料用的\n",
        "\n",
        "imputer = SimpleImputer(missing_values=np.nan, strategy=\"mean\")\n",
        "imputer = imputer.fit(X[:, 1:3]) #fit根據「陣列切片」出來的結果，去計算平均\n",
        "X[:, 1:3] = imputer.transform(X[:, 1:3]) #transform將陣列切片內的「缺失資料」，轉化為計算出來的值"
      ],
      "metadata": {
        "id": "1WqhVi81grOQ"
      },
      "execution_count": 94,
      "outputs": []
    },
    {
      "cell_type": "markdown",
      "source": [
        "將資料集裡面的文字欄位，包含自變數 X 與應變數 Y，轉換為數字欄位\n"
      ],
      "metadata": {
        "id": "CPETQl_xiZ5r"
      }
    },
    {
      "cell_type": "code",
      "source": [
        "#使用標籤編碼器(LabelEncoder) 對 Y 做類別資料數位化\n",
        "from sklearn.preprocessing import LabelEncoder\n",
        "\n",
        "labelEncoder = LabelEncoder()\n",
        "Y = labelEncoder.fit_transform(Y).astype(\"float64\")"
      ],
      "metadata": {
        "id": "w2OP97P4iejQ"
      },
      "execution_count": 95,
      "outputs": []
    },
    {
      "cell_type": "code",
      "source": [
        "#使用One-Hot Encoder對 X 做類別資料數位化\n",
        "array_dummies = pd.get_dummies(X[:, 0]).values\n",
        "X = np.concatenate((array_dummies, X[:, 1:3]), axis=1).astype(\"float64\")"
      ],
      "metadata": {
        "id": "tDhCENaLj39R"
      },
      "execution_count": 96,
      "outputs": []
    },
    {
      "cell_type": "markdown",
      "source": [
        "將資料集切分為「訓練集」與「測試集」"
      ],
      "metadata": {
        "id": "eeUZjOVInRdZ"
      }
    },
    {
      "cell_type": "code",
      "source": [
        "from sklearn.model_selection import train_test_split #切分「訓練集、測試集」使用\n",
        "\n",
        "X_train, X_test, Y_train, Y_test = train_test_split(X, Y, test_size=0.2, random_state=0)\n",
        "print(\"自變數訓練集\\n\", X_train)\n",
        "print(\"自變數測試集\\n\", X_test)\n",
        "print(\"應變數訓練集\", Y_train)\n",
        "print(\"應變數測試集\", Y_test)"
      ],
      "metadata": {
        "colab": {
          "base_uri": "https://localhost:8080/"
        },
        "id": "6BlRjcNAnSgt",
        "outputId": "0b5b0a8f-218c-4a7c-d44a-c4c50ed33c87"
      },
      "execution_count": 102,
      "outputs": [
        {
          "output_type": "stream",
          "name": "stdout",
          "text": [
            "自變數訓練集\n",
            " [[  1.     0.     0.   185.    98.  ]\n",
            " [  0.     1.     0.   164.    82.25]\n",
            " [  1.     0.     0.   165.    79.  ]\n",
            " [  0.     0.     1.   178.    75.  ]\n",
            " [  1.     0.     0.   170.    75.  ]\n",
            " [  0.     0.     1.   186.    90.  ]\n",
            " [  0.     1.     0.   170.    72.  ]]\n",
            "自變數測試集\n",
            " [[  0.      0.      1.    174.125  89.   ]\n",
            " [  0.      1.      0.    175.     80.   ]]\n",
            "應變數訓練集 [0. 0. 1. 0. 1. 1. 1.]\n",
            "應變數測試集 [1. 0.]\n"
          ]
        }
      ]
    },
    {
      "cell_type": "markdown",
      "source": [
        "針對自變數 X 相關資料集，進行「特徵縮放」"
      ],
      "metadata": {
        "id": "tbtMCQiGrDHI"
      }
    },
    {
      "cell_type": "code",
      "source": [
        "from sklearn.preprocessing import StandardScaler #使用「標準縮放器（StandardScaler）」物件\n",
        "\n",
        "sc_X = StandardScaler().fit(X_train)\n",
        "X_train = sc_X.transform(X_train)\n",
        "X_test = sc_X.transform(X_test)"
      ],
      "metadata": {
        "id": "pFHNY1d1rDp1"
      },
      "execution_count": 103,
      "outputs": []
    },
    {
      "cell_type": "code",
      "source": [
        "print(\"特徵縮放後自變數訓練集\\n\", X_train)\n",
        "print(\"特徵縮放後自變數測試集\\n\", X_test)\n",
        "print(\"特徵縮放後應變數訓練集\", Y_train)\n",
        "print(\"特徵縮放後應變數測試集\", Y_test)"
      ],
      "metadata": {
        "colab": {
          "base_uri": "https://localhost:8080/"
        },
        "id": "lcrQgAPvrtOK",
        "outputId": "6f4fb307-cf0c-414c-cc9e-84972540aee4"
      },
      "execution_count": 104,
      "outputs": [
        {
          "output_type": "stream",
          "name": "stdout",
          "text": [
            "特徵縮放後自變數訓練集\n",
            " [[ 1.15470054 -0.63245553 -0.63245553  1.30941777  1.89111602]\n",
            " [-0.8660254   1.58113883 -0.63245553 -1.19037979  0.07416141]\n",
            " [ 1.15470054 -0.63245553 -0.63245553 -1.07134181 -0.30076573]\n",
            " [-0.8660254  -0.63245553  1.58113883  0.47615192 -0.76221452]\n",
            " [ 1.15470054 -0.63245553 -0.63245553 -0.47615192 -0.76221452]\n",
            " [-0.8660254  -0.63245553  1.58113883  1.42845575  0.96821844]\n",
            " [-0.8660254   1.58113883 -0.63245553 -0.47615192 -1.10830111]]\n",
            "特徵縮放後自變數測試集\n",
            " [[-0.8660254  -0.63245553  1.58113883  0.01487975  0.85285625]\n",
            " [-0.8660254   1.58113883 -0.63245553  0.11903798 -0.18540353]]\n",
            "特徵縮放後應變數訓練集 [0. 0. 1. 0. 1. 1. 1.]\n",
            "特徵縮放後應變數測試集 [1. 0.]\n"
          ]
        }
      ]
    }
  ]
}